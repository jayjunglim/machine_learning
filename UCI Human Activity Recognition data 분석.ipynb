{
 "cells": [
  {
   "cell_type": "markdown",
   "metadata": {},
   "source": [
    "머신러닝 따라하기\n",
    "\n",
    "참고: https://lsjsj92.tistory.com/517?category=853217"
   ]
  },
  {
   "cell_type": "code",
   "execution_count": 44,
   "metadata": {},
   "outputs": [],
   "source": [
    "import pandas as pd\n",
    "import numpy as np\n",
    "import matplotlib.pyplot as plt\n",
    "import seaborn as sns"
   ]
  },
  {
   "cell_type": "code",
   "execution_count": 8,
   "metadata": {},
   "outputs": [
    {
     "data": {
      "text/plain": [
       "['tBodyAcc-mean()-X',\n",
       " 'tBodyAcc-mean()-Y',\n",
       " 'tBodyAcc-mean()-Z',\n",
       " 'tBodyAcc-std()-X',\n",
       " 'tBodyAcc-std()-Y',\n",
       " 'tBodyAcc-std()-Z',\n",
       " 'tBodyAcc-mad()-X',\n",
       " 'tBodyAcc-mad()-Y',\n",
       " 'tBodyAcc-mad()-Z',\n",
       " 'tBodyAcc-max()-X']"
      ]
     },
     "execution_count": 8,
     "metadata": {},
     "output_type": "execute_result"
    }
   ],
   "source": [
    "feature_name_df = pd.read_csv(\"./features.txt\", sep ='\\s+', header = None, names =['column_index','column_name'])\n",
    "feature_name = feature_name_df.iloc[:,1].values.tolist()\n",
    "feature_name[:10]"
   ]
  },
  {
   "cell_type": "code",
   "execution_count": 12,
   "metadata": {},
   "outputs": [
    {
     "name": "stderr",
     "output_type": "stream",
     "text": [
      "/home/hadoop/anaconda2/envs/analysis/lib/python2.7/site-packages/pandas/io/parsers.py:702: UserWarning: Duplicate names specified. This will raise an error in the future.\n",
      "  return _read(filepath_or_buffer, kwds)\n",
      "/home/hadoop/anaconda2/envs/analysis/lib/python2.7/site-packages/pandas/io/parsers.py:702: UserWarning: Duplicate names specified. This will raise an error in the future.\n",
      "  return _read(filepath_or_buffer, kwds)\n"
     ]
    }
   ],
   "source": [
    "def get_human_dataset():\n",
    "    feature_name_df = pd.read_csv(\"./features.txt\", sep ='\\s+', header = None, names =['column_index','column_name'])\n",
    "    feature_name = feature_name_df.iloc[:,1].values.tolist()\n",
    "    \n",
    "    X_train = pd.read_csv('./X_train.txt', sep ='\\s+', names =feature_name)\n",
    "    X_test = pd.read_csv('./X_test.txt', sep = '\\s+', names = feature_name)\n",
    "    y_train = pd.read_csv('./y_train.txt', sep = '\\s+', header = None, names =['action'])\n",
    "    y_test = pd.read_csv('./y_test.txt', sep = '\\s+', header = None, names = ['action'])\n",
    "    return X_train, X_test, y_train, y_test\n",
    "\n",
    "X_train, X_test, y_train, y_test = get_human_dataset()"
   ]
  },
  {
   "cell_type": "code",
   "execution_count": 13,
   "metadata": {},
   "outputs": [
    {
     "name": "stdout",
     "output_type": "stream",
     "text": [
      "<class 'pandas.core.frame.DataFrame'>\n",
      "RangeIndex: 7352 entries, 0 to 7351\n",
      "Columns: 561 entries, tBodyAcc-mean()-X to angle(Z,gravityMean)\n",
      "dtypes: float64(561)\n",
      "memory usage: 31.5 MB\n"
     ]
    }
   ],
   "source": [
    "X_train.info()"
   ]
  },
  {
   "cell_type": "code",
   "execution_count": 21,
   "metadata": {},
   "outputs": [
    {
     "data": {
      "text/plain": [
       "0"
      ]
     },
     "execution_count": 21,
     "metadata": {},
     "output_type": "execute_result"
    }
   ],
   "source": [
    "# null 값 확인\n",
    "X_train.isna().sum().sum()"
   ]
  },
  {
   "cell_type": "markdown",
   "metadata": {},
   "source": [
    "전처리 따로 하징낳고 머신러닝 모델 적용\n",
    "\n",
    "Decision Tree"
   ]
  },
  {
   "cell_type": "code",
   "execution_count": 22,
   "metadata": {},
   "outputs": [],
   "source": [
    "from sklearn.tree import DecisionTreeClassifier\n",
    "from sklearn.metrics import accuracy_score\n",
    "from sklearn.model_selection import GridSearchCV"
   ]
  },
  {
   "cell_type": "code",
   "execution_count": 25,
   "metadata": {},
   "outputs": [
    {
     "name": "stdout",
     "output_type": "stream",
     "text": [
      "점수 : 0.8612\n",
      "('\\xea\\xb2\\xb0\\xec\\xa0\\x95\\xed\\x8a\\xb8\\xeb\\xa6\\xac \\xed\\x95\\x98\\xec\\x9d\\xb4\\xed\\x8d\\xbc\\xed\\x8c\\x8c\\xeb\\x9d\\xbc\\xeb\\xaf\\xb8\\xed\\x84\\xb0 : \\n', {'presort': False, 'splitter': 'best', 'min_impurity_decrease': 0.0, 'max_leaf_nodes': None, 'min_samples_leaf': 1, 'min_samples_split': 2, 'min_weight_fraction_leaf': 0.0, 'criterion': 'gini', 'random_state': 11, 'min_impurity_split': None, 'max_features': None, 'max_depth': None, 'class_weight': None})\n"
     ]
    }
   ],
   "source": [
    "dt_clf = DecisionTreeClassifier(random_state = 11)\n",
    "dt_clf.fit(X_train, y_train)\n",
    "pred = dt_clf.predict(X_test)\n",
    "accuracy = accuracy_score(y_test, pred)\n",
    "print(\"점수 : {0:.4f}\".format(accuracy))\n",
    "print(\"결정트리 하이퍼파라미터 : \\n\", dt_clf.get_params())"
   ]
  },
  {
   "cell_type": "code",
   "execution_count": 32,
   "metadata": {},
   "outputs": [
    {
     "name": "stdout",
     "output_type": "stream",
     "text": [
      "Fitting 5 folds for each of 8 candidates, totalling 40 fits\n"
     ]
    },
    {
     "name": "stderr",
     "output_type": "stream",
     "text": [
      "[Parallel(n_jobs=1)]: Using backend SequentialBackend with 1 concurrent workers.\n",
      "[Parallel(n_jobs=1)]: Done  40 out of  40 | elapsed:   57.6s finished\n"
     ]
    },
    {
     "name": "stdout",
     "output_type": "stream",
     "text": [
      "최고 평균 정확도 :  0.8565\n",
      "('\\xec\\xb5\\x9c\\xea\\xb3\\xa0\\xec\\x9d\\x98 \\xed\\x8c\\x8c\\xeb\\x9d\\xbc\\xeb\\xaf\\xb8\\xed\\x84\\xb0 :', {'max_depth': 8, 'min_samples_leaf': 24})\n"
     ]
    }
   ],
   "source": [
    "# GridSearch를 이용해 hyper parameter바꾸면서 모델성능 평가\n",
    "params = {\n",
    "    'max_depth' : [6,8,10,12],\n",
    "    'min_samples_leaf' : [16,24]\n",
    "}\n",
    "\n",
    "grid_cv = GridSearchCV(dt_clf, param_grid = params, scoring = 'accuracy', cv = 5, verbose = 1, return_train_score = True)\n",
    "grid_cv.fit(X_train, y_train)\n",
    "print('최고 평균 정확도 : {0: .4f}'.format(grid_cv.best_score_))\n",
    "print('최고의 파라미터 :', grid_cv.best_params_)"
   ]
  },
  {
   "cell_type": "code",
   "execution_count": 33,
   "metadata": {},
   "outputs": [
    {
     "data": {
      "text/html": [
       "<div>\n",
       "<style scoped>\n",
       "    .dataframe tbody tr th:only-of-type {\n",
       "        vertical-align: middle;\n",
       "    }\n",
       "\n",
       "    .dataframe tbody tr th {\n",
       "        vertical-align: top;\n",
       "    }\n",
       "\n",
       "    .dataframe thead th {\n",
       "        text-align: right;\n",
       "    }\n",
       "</style>\n",
       "<table border=\"1\" class=\"dataframe\">\n",
       "  <thead>\n",
       "    <tr style=\"text-align: right;\">\n",
       "      <th></th>\n",
       "      <th>params</th>\n",
       "      <th>mean_test_score</th>\n",
       "      <th>rank_test_score</th>\n",
       "      <th>mean_train_score</th>\n",
       "    </tr>\n",
       "  </thead>\n",
       "  <tbody>\n",
       "    <tr>\n",
       "      <th>0</th>\n",
       "      <td>{u'max_depth': 6, u'min_samples_leaf': 16}</td>\n",
       "      <td>0.845212</td>\n",
       "      <td>8</td>\n",
       "      <td>0.940665</td>\n",
       "    </tr>\n",
       "    <tr>\n",
       "      <th>1</th>\n",
       "      <td>{u'max_depth': 6, u'min_samples_leaf': 24}</td>\n",
       "      <td>0.847797</td>\n",
       "      <td>7</td>\n",
       "      <td>0.937672</td>\n",
       "    </tr>\n",
       "    <tr>\n",
       "      <th>2</th>\n",
       "      <td>{u'max_depth': 8, u'min_samples_leaf': 16}</td>\n",
       "      <td>0.854053</td>\n",
       "      <td>6</td>\n",
       "      <td>0.965316</td>\n",
       "    </tr>\n",
       "    <tr>\n",
       "      <th>3</th>\n",
       "      <td>{u'max_depth': 8, u'min_samples_leaf': 24}</td>\n",
       "      <td>0.856502</td>\n",
       "      <td>1</td>\n",
       "      <td>0.954571</td>\n",
       "    </tr>\n",
       "    <tr>\n",
       "      <th>4</th>\n",
       "      <td>{u'max_depth': 10, u'min_samples_leaf': 16}</td>\n",
       "      <td>0.854733</td>\n",
       "      <td>4</td>\n",
       "      <td>0.966574</td>\n",
       "    </tr>\n",
       "    <tr>\n",
       "      <th>5</th>\n",
       "      <td>{u'max_depth': 10, u'min_samples_leaf': 24}</td>\n",
       "      <td>0.855141</td>\n",
       "      <td>2</td>\n",
       "      <td>0.955013</td>\n",
       "    </tr>\n",
       "    <tr>\n",
       "      <th>6</th>\n",
       "      <td>{u'max_depth': 12, u'min_samples_leaf': 16}</td>\n",
       "      <td>0.854597</td>\n",
       "      <td>5</td>\n",
       "      <td>0.966643</td>\n",
       "    </tr>\n",
       "    <tr>\n",
       "      <th>7</th>\n",
       "      <td>{u'max_depth': 12, u'min_samples_leaf': 24}</td>\n",
       "      <td>0.855005</td>\n",
       "      <td>3</td>\n",
       "      <td>0.955013</td>\n",
       "    </tr>\n",
       "  </tbody>\n",
       "</table>\n",
       "</div>"
      ],
      "text/plain": [
       "                                        params  mean_test_score  \\\n",
       "0   {u'max_depth': 6, u'min_samples_leaf': 16}         0.845212   \n",
       "1   {u'max_depth': 6, u'min_samples_leaf': 24}         0.847797   \n",
       "2   {u'max_depth': 8, u'min_samples_leaf': 16}         0.854053   \n",
       "3   {u'max_depth': 8, u'min_samples_leaf': 24}         0.856502   \n",
       "4  {u'max_depth': 10, u'min_samples_leaf': 16}         0.854733   \n",
       "5  {u'max_depth': 10, u'min_samples_leaf': 24}         0.855141   \n",
       "6  {u'max_depth': 12, u'min_samples_leaf': 16}         0.854597   \n",
       "7  {u'max_depth': 12, u'min_samples_leaf': 24}         0.855005   \n",
       "\n",
       "   rank_test_score  mean_train_score  \n",
       "0                8          0.940665  \n",
       "1                7          0.937672  \n",
       "2                6          0.965316  \n",
       "3                1          0.954571  \n",
       "4                4          0.966574  \n",
       "5                2          0.955013  \n",
       "6                5          0.966643  \n",
       "7                3          0.955013  "
      ]
     },
     "execution_count": 33,
     "metadata": {},
     "output_type": "execute_result"
    }
   ],
   "source": [
    "# hyper parameter별로 성능 나열하기\n",
    "cv_result_df = pd.DataFrame(grid_cv.cv_results_)\n",
    "cv_result_df[['params','mean_test_score','rank_test_score','mean_train_score']]"
   ]
  },
  {
   "cell_type": "code",
   "execution_count": 31,
   "metadata": {},
   "outputs": [],
   "source": [
    "?grid_cv"
   ]
  },
  {
   "cell_type": "code",
   "execution_count": 35,
   "metadata": {},
   "outputs": [
    {
     "name": "stdout",
     "output_type": "stream",
     "text": [
      "정확도 : 0.8568\n"
     ]
    }
   ],
   "source": [
    "# 제일 좋은 모델 가져오기\n",
    "best_dt_clf = grid_cv.best_estimator_\n",
    "pred1 = best_dt_clf.predict(X_test)\n",
    "acc = accuracy_score(y_test, pred1)\n",
    "print('정확도 : {0:.4f}'.format(acc))"
   ]
  },
  {
   "cell_type": "code",
   "execution_count": 36,
   "metadata": {},
   "outputs": [
    {
     "data": {
      "text/plain": [
       "array([0.        , 0.        , 0.        , 0.        , 0.        ,\n",
       "       0.        , 0.        , 0.        , 0.        , 0.00105205])"
      ]
     },
     "execution_count": 36,
     "metadata": {},
     "output_type": "execute_result"
    }
   ],
   "source": [
    "# 변수 중요도 도출하기\n",
    "feature_importance = best_dt_clf.feature_importances_\n",
    "feature_importance[:10]"
   ]
  },
  {
   "cell_type": "code",
   "execution_count": 38,
   "metadata": {},
   "outputs": [
    {
     "data": {
      "text/plain": [
       "tGravityAcc-min()-X            0.262167\n",
       "fBodyAcc-mad()-X               0.219978\n",
       "angle(Y,gravityMean)           0.148491\n",
       "fBodyAccMag-energy()           0.119495\n",
       "tGravityAcc-arCoeff()-Z,2      0.105080\n",
       "fBodyGyro-maxInds-X            0.024805\n",
       "tBodyGyro-correlation()-Y,Z    0.017169\n",
       "tGravityAcc-energy()-Y         0.017005\n",
       "tGravityAccMag-arCoeff()1      0.013051\n",
       "fBodyAcc-max()-Y               0.009131\n",
       "tGravityAcc-max()-Y            0.006509\n",
       "tBodyGyro-max()-X              0.006326\n",
       "tBodyGyro-min()-X              0.004525\n",
       "tBodyAcc-correlation()-X,Y     0.003824\n",
       "fBodyAccMag-std()              0.003372\n",
       "tGravityAcc-arCoeff()-Y,3      0.003130\n",
       "angle(Z,gravityMean)           0.003091\n",
       "fBodyGyro-iqr()-Y              0.002933\n",
       "fBodyGyro-std()-X              0.002849\n",
       "tBodyGyro-iqr()-X              0.002733\n",
       "dtype: float64"
      ]
     },
     "execution_count": 38,
     "metadata": {},
     "output_type": "execute_result"
    }
   ],
   "source": [
    "f_imp = pd.Series(feature_importance, index = X_train.columns)\n",
    "f_imp = f_imp.sort_values(ascending = False)[:20]\n",
    "f_imp"
   ]
  },
  {
   "cell_type": "code",
   "execution_count": 45,
   "metadata": {},
   "outputs": [
    {
     "data": {
      "text/plain": [
       "<matplotlib.axes._subplots.AxesSubplot at 0x7f605584e850>"
      ]
     },
     "execution_count": 45,
     "metadata": {},
     "output_type": "execute_result"
    },
    {
     "data": {
      "image/png": "[encoded data removed]",
      "text/plain": [
       "<Figure size 864x576 with 1 Axes>"
      ]
     },
     "metadata": {
      "needs_background": "light"
     },
     "output_type": "display_data"
    }
   ],
   "source": [
    "#시각화\n",
    "\n",
    "plt.figure(figsize = (12,8))\n",
    "plt.title(\"feature importance top 20\")\n",
    "sns.barplot(x=f_imp, y = f_imp.index)"
   ]
  },
  {
   "cell_type": "code",
   "execution_count": null,
   "metadata": {},
   "outputs": [],
   "source": []
  }
 ],
 "metadata": {
  "kernelspec": {
   "display_name": "Python2 (analysis)",
   "language": "python",
   "name": "analysis"
  },
  "language_info": {
   "codemirror_mode": {
    "name": "ipython",
    "version": 2
   },
   "file_extension": ".py",
   "mimetype": "text/x-python",
   "name": "python",
   "nbconvert_exporter": "python",
   "pygments_lexer": "ipython2",
   "version": "2.7.15"
  }
 },
 "nbformat": 4,
 "nbformat_minor": 2
}
